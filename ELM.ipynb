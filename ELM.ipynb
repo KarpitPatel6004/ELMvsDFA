{
 "cells": [
  {
   "cell_type": "code",
   "execution_count": 1,
   "metadata": {},
   "outputs": [],
   "source": [
    "import numpy as np\n",
    "import pandas as pd\n",
    "import matplotlib.pyplot as plt\n",
    "from sklearn.model_selection import train_test_split\n",
    "from tqdm import tqdm\n",
    "import tensorflow as tf\n",
    "from tensorflow import keras\n",
    "from tensorflow.keras import Sequential\n",
    "from tensorflow.keras.optimizers import Adam,SGD\n",
    "from tensorflow.keras.preprocessing import image\n",
    "from keras.utils.np_utils import to_categorical\n",
    "from tensorflow.keras.layers import Flatten, Dense, Dropout, BatchNormalization, Conv2D, MaxPool2D"
   ]
  },
  {
   "cell_type": "code",
   "execution_count": 2,
   "metadata": {
    "tags": []
   },
   "outputs": [
    {
     "output_type": "stream",
     "name": "stdout",
     "text": "(60000, 785)\n(10000, 785)\n"
    }
   ],
   "source": [
    "#data = pd.read_csv(\"C:/Users/karpit/Downloads/ML/SRI Project/Fmnist/fashion-mnist_train.csv\")\n",
    "data = pd.read_csv(\"D:/Downloads/Fashion MNIST/fashion-mnist_train.csv\")\n",
    "#test = pd.read_csv(\"C:/Users/karpit/Downloads/ML/SRI Project/Fmnist/fashion-mnist_test.csv\")\n",
    "test = pd.read_csv(\"D:/Downloads/Fashion MNIST/fashion-mnist_test.csv\")\n",
    "\n",
    "data = np.array(data)\n",
    "test = np.array(test)\n",
    "\n",
    "print(data.shape)\n",
    "print(test.shape)"
   ]
  },
  {
   "cell_type": "code",
   "execution_count": 3,
   "metadata": {},
   "outputs": [
    {
     "output_type": "execute_result",
     "data": {
      "text/plain": "((60000, 784), (60000,), (10000, 784), (10000,))"
     },
     "metadata": {},
     "execution_count": 3
    }
   ],
   "source": [
    "train_X = data[:,1:]/255\n",
    "test_X = test[:,1:]/255\n",
    "\n",
    "train_X = train_X.reshape(train_X.shape[0],784)\n",
    "test_X = test_X.reshape(test_X.shape[0],784)\n",
    "\n",
    "train_y = data[:,0]\n",
    "test_y = test[:,0]\n",
    "\n",
    "train_X.shape, train_y.shape, test_X.shape, test_y.shape"
   ]
  },
  {
   "cell_type": "code",
   "execution_count": 4,
   "metadata": {},
   "outputs": [
    {
     "output_type": "execute_result",
     "data": {
      "text/plain": "((60000, 10), (10000, 10))"
     },
     "metadata": {},
     "execution_count": 4
    }
   ],
   "source": [
    "train_y = to_categorical(train_y,10)\n",
    "test_y = to_categorical(test_y,10)\n",
    "\n",
    "train_y.shape, test_y.shape"
   ]
  },
  {
   "cell_type": "code",
   "execution_count": 5,
   "metadata": {
    "tags": []
   },
   "outputs": [
    {
     "output_type": "stream",
     "name": "stdout",
     "text": "Training data shape :  (48000, 784) (48000, 10)\nValidation data shape :  (12000, 784) (12000, 10)\n"
    }
   ],
   "source": [
    "X_train, X_val, y_train, y_val = train_test_split(train_X, train_y, test_size = 0.2)\n",
    "\n",
    "\n",
    "print (\"Training data shape : \",X_train.shape, y_train.shape)\n",
    "print (\"Validation data shape : \",X_val.shape, y_val.shape)"
   ]
  },
  {
   "cell_type": "code",
   "execution_count": 6,
   "metadata": {},
   "outputs": [],
   "source": [
    "from sklearn.metrics import log_loss\n",
    "\n",
    "def init(sizes):\n",
    "    num_layers = len(sizes)\n",
    "    \n",
    "    biases = [np.random.randn(y, 1) for y in sizes[1:]]\n",
    "    weights = [np.random.randn(y, x)*np.sqrt(2/x) for x, y in zip(sizes[:-1], sizes[1:])]\n",
    "        \n",
    "    return biases, weights\n",
    "\n",
    "def dx_relu(a):\n",
    "    da = np.ones_like(a)\n",
    "    da[a<0] = 0\n",
    "    return da\n",
    "\n",
    "\"\"\"def dx_relu(a, alpha = 0.3):\n",
    "    da = np.ones_like(a)\n",
    "    da[a<0] = alpha\n",
    "    return da\"\"\"\n",
    "\n",
    "def forward_pass(w, b, x):\n",
    "    a = []\n",
    "    h = []\n",
    "    num_layer = len(w)+1\n",
    "    for i in range(num_layer-1):\n",
    "        t = np.matmul(w[i],x) + np.tile(b[i],x.shape[1])\n",
    "        x = np.matmul(w[i],x)\n",
    "        a.append(t)\n",
    "        if i != num_layer-2:\n",
    "            #h.append(tf.nn.relu(t, alpha = 0.3))\n",
    "            h.append(tf.nn.relu(t))\n",
    "            \n",
    "    h.append(tf.nn.sigmoid(t))\n",
    "    return a, h\n",
    "\n",
    "\n",
    "\n",
    "def dfa_backward_pass(e, h, B, a, x):\n",
    "    dW = [np.zeros(w.shape) for w in weights]\n",
    "    db = [np.zeros(b.shape) for b in biases]\n",
    "    \n",
    "    num_layer = len(weights) + 1\n",
    "    \n",
    "    dW[-1] = -np.matmul(e, np.transpose(h[-2]))\n",
    "    tmp = -np.sum(e, axis=1)\n",
    "    tmp = tmp[:,np.newaxis]\n",
    "    db[-1] = tmp\n",
    "    \n",
    "    for l in range(2,num_layer):\n",
    "        da = np.matmul(B[-l+1], e)*dx_relu(a[-l])\n",
    "        if l != num_layer-1:\n",
    "            dW[-l] = -np.matmul(da, np.transpose(h[-l-1]))\n",
    "        else :\n",
    "            dW[-l] = -np.matmul(da, np.transpose(x))\n",
    "        tmp = -np.sum(da, axis=1)\n",
    "        tmp = tmp[:,np.newaxis]\n",
    "        db[-l] = tmp\n",
    "    \n",
    "    return dW, db\n",
    "\n",
    "\n",
    "def dfa_train(x, y, X_val, y_val, n_epochs=10, lr=1e-3, batch_size=200):\n",
    "    x = np.transpose(x)\n",
    "    y = np.transpose(y)\n",
    "    \n",
    "    num_layer = len(weights) + 1\n",
    "    \n",
    "    B=[]\n",
    "    # initialization of random matrix for FA\n",
    "    '''for i in range(num_layer-2):\n",
    "        shape = weights[i+1].shape\n",
    "        B.append(np.random.randn(shape[1], shape[0]))'''\n",
    "    \n",
    "    # initialization of random matrix for DFA\n",
    "    for i in range(num_layer-2):\n",
    "        shape = weights[i+1].shape\n",
    "        B.append(np.random.randn(shape[1], 10))\n",
    "        \n",
    "    \n",
    "    dataset_size = x.shape[1]\n",
    "    n_batches = dataset_size//batch_size\n",
    "    for epoch in range(n_epochs):\n",
    "        perm = np.random.permutation(x.shape[1])\n",
    "        x = x[:, perm]\n",
    "        y = y[:, perm]\n",
    "        loss = 0.\n",
    "        for j in range(n_batches):\n",
    "            samples = x[:, j*batch_size:(j+1)*batch_size]\n",
    "            targets = y[:, j*batch_size:(j+1)*batch_size]\n",
    "            a, h = forward_pass(weights, biases, samples)\n",
    "            error = h[-1] - targets\n",
    "            preds = np.argmax(h[-1], axis=0) \n",
    "            truth = np.argmax(targets, axis=0)\n",
    "            loss_on_batch = log_loss(targets, h[-1])\n",
    "            \n",
    "            dW, db = dfa_backward_pass(error, h, B, a, samples)\n",
    "            \n",
    "            \n",
    "            '''for l in range(len(dW)):\n",
    "                weights[l] += lr*dW[l]\n",
    "                biases[l] += lr*db[l]'''\n",
    "                \n",
    "            weights[len(weights)-1] += lr*dW[len(dW)-1]\n",
    "            biases[len(biases)-1] += lr*db[len(db)-1]\n",
    "            loss += loss_on_batch\n",
    "        \n",
    "        print ('Loss at epoch', epoch+1, ':', loss/x.shape[1])\n",
    "        \n",
    "        outputs = forward_pass(weights, biases, X_val.T)[-1]\n",
    "        p = np.argmax(outputs[-1], axis=0)\n",
    "        actual = np.argmax(y_val.T, axis=0)\n",
    "        val_acc =  (np.sum(p == actual)/p.shape[0])*100\n",
    "        \n",
    "        print('Validation Accuracy is :',val_acc, '%\\n')\n",
    "     \n",
    "    return weights, biases\n",
    "\n"
   ]
  },
  {
   "cell_type": "code",
   "execution_count": 7,
   "metadata": {
    "tags": [
     "outputPrepend"
    ]
   },
   "outputs": [
    {
     "output_type": "stream",
     "name": "stdout",
     "text": "7284429102\nValidation Accuracy is : 69.475 %\n\nLoss at epoch 256 : 0.44340043127943\nValidation Accuracy is : 69.48333333333333 %\n\nLoss at epoch 257 : 0.4434659762993222\nValidation Accuracy is : 69.53333333333333 %\n\nLoss at epoch 258 : 0.4434882227501245\nValidation Accuracy is : 69.55833333333334 %\n\nLoss at epoch 259 : 0.44355396277361797\nValidation Accuracy is : 69.525 %\n\nLoss at epoch 260 : 0.4435573635608161\nValidation Accuracy is : 69.55 %\n\nLoss at epoch 261 : 0.4436697778709196\nValidation Accuracy is : 69.54166666666667 %\n\nLoss at epoch 262 : 0.44391165607258753\nValidation Accuracy is : 69.56666666666666 %\n\nLoss at epoch 263 : 0.443887734367485\nValidation Accuracy is : 69.55833333333334 %\n\nLoss at epoch 264 : 0.4438041091828847\nValidation Accuracy is : 69.575 %\n\nLoss at epoch 265 : 0.4440305024269978\nValidation Accuracy is : 69.59166666666667 %\n\nLoss at epoch 266 : 0.44402576177462166\nValidation Accuracy is : 69.625 %\n\nLoss at epoch 267 : 0.4441652856867589\nValidation Accuracy is : 69.63333333333334 %\n\nLoss at epoch 268 : 0.44429923034847957\nValidation Accuracy is : 69.61666666666667 %\n\nLoss at epoch 269 : 0.44427419283484015\nValidation Accuracy is : 69.61666666666667 %\n\nLoss at epoch 270 : 0.4444414080548207\nValidation Accuracy is : 69.64166666666667 %\n\nLoss at epoch 271 : 0.4445699169892747\nValidation Accuracy is : 69.63333333333334 %\n\nLoss at epoch 272 : 0.44452836802111445\nValidation Accuracy is : 69.61666666666667 %\n\nLoss at epoch 273 : 0.44461937717294076\nValidation Accuracy is : 69.66666666666667 %\n\nLoss at epoch 274 : 0.44470421176690716\nValidation Accuracy is : 69.675 %\n\nLoss at epoch 275 : 0.44469643386116864\nValidation Accuracy is : 69.65833333333333 %\n\nLoss at epoch 276 : 0.4447787752023033\nValidation Accuracy is : 69.675 %\n\nLoss at epoch 277 : 0.4449038331086895\nValidation Accuracy is : 69.675 %\n\nLoss at epoch 278 : 0.4452319495991997\nValidation Accuracy is : 69.68333333333334 %\n\nLoss at epoch 279 : 0.44491909980807365\nValidation Accuracy is : 69.68333333333334 %\n\nLoss at epoch 280 : 0.4451711303612408\nValidation Accuracy is : 69.68333333333334 %\n\nLoss at epoch 281 : 0.4453347152571939\nValidation Accuracy is : 69.66666666666667 %\n\nLoss at epoch 282 : 0.44543192428212963\nValidation Accuracy is : 69.66666666666667 %\n\nLoss at epoch 283 : 0.4453475567734461\nValidation Accuracy is : 69.68333333333334 %\n\nLoss at epoch 284 : 0.44542814615142107\nValidation Accuracy is : 69.70833333333334 %\n\nLoss at epoch 285 : 0.4454426026357009\nValidation Accuracy is : 69.69999999999999 %\n\nLoss at epoch 286 : 0.44554688910821066\nValidation Accuracy is : 69.68333333333334 %\n\nLoss at epoch 287 : 0.4457674181847802\nValidation Accuracy is : 69.69999999999999 %\n\nLoss at epoch 288 : 0.44571134367730325\nValidation Accuracy is : 69.68333333333334 %\n\nLoss at epoch 289 : 0.4459546797493146\nValidation Accuracy is : 69.675 %\n\nLoss at epoch 290 : 0.4459170970926651\nValidation Accuracy is : 69.65833333333333 %\n\nLoss at epoch 291 : 0.44585722602417127\nValidation Accuracy is : 69.69999999999999 %\n\nLoss at epoch 292 : 0.4460361952065668\nValidation Accuracy is : 69.675 %\n\nLoss at epoch 293 : 0.446095705501556\nValidation Accuracy is : 69.675 %\n\nLoss at epoch 294 : 0.4460784804068564\nValidation Accuracy is : 69.65833333333333 %\n\nLoss at epoch 295 : 0.4463221318529291\nValidation Accuracy is : 69.69166666666666 %\n\nLoss at epoch 296 : 0.44644495559534525\nValidation Accuracy is : 69.69166666666666 %\n\nLoss at epoch 297 : 0.4464956996317913\nValidation Accuracy is : 69.68333333333334 %\n\nLoss at epoch 298 : 0.44659889929496666\nValidation Accuracy is : 69.73333333333333 %\n\nLoss at epoch 299 : 0.44656290467231446\nValidation Accuracy is : 69.70833333333334 %\n\nLoss at epoch 300 : 0.4466924734821216\nValidation Accuracy is : 69.75833333333334 %\n\nLoss at epoch 301 : 0.44678690239661206\nValidation Accuracy is : 69.73333333333333 %\n\nLoss at epoch 302 : 0.4468720421432614\nValidation Accuracy is : 69.70833333333334 %\n\nLoss at epoch 303 : 0.44693375903691746\nValidation Accuracy is : 69.69999999999999 %\n\nLoss at epoch 304 : 0.44696971525970175\nValidation Accuracy is : 69.72500000000001 %\n\nLoss at epoch 305 : 0.44708224614903025\nValidation Accuracy is : 69.74166666666667 %\n\nLoss at epoch 306 : 0.447032981905446\nValidation Accuracy is : 69.75 %\n\nLoss at epoch 307 : 0.44731516762560164\nValidation Accuracy is : 69.8 %\n\nLoss at epoch 308 : 0.4472943961754081\nValidation Accuracy is : 69.80833333333332 %\n\nLoss at epoch 309 : 0.44747779189554476\nValidation Accuracy is : 69.81666666666668 %\n\nLoss at epoch 310 : 0.44745216803151067\nValidation Accuracy is : 69.825 %\n\nLoss at epoch 311 : 0.44761020648877503\nValidation Accuracy is : 69.825 %\n\nLoss at epoch 312 : 0.4475311885689949\nValidation Accuracy is : 69.825 %\n\nLoss at epoch 313 : 0.44760723576015615\nValidation Accuracy is : 69.81666666666668 %\n\nLoss at epoch 314 : 0.4478367065013818\nValidation Accuracy is : 69.86666666666666 %\n\nLoss at epoch 315 : 0.44783036172878726\nValidation Accuracy is : 69.88333333333333 %\n\nLoss at epoch 316 : 0.4480087532679737\nValidation Accuracy is : 69.85833333333333 %\n\nLoss at epoch 317 : 0.44788254819573337\nValidation Accuracy is : 69.875 %\n\nLoss at epoch 318 : 0.4481481882455701\nValidation Accuracy is : 69.89999999999999 %\n\nLoss at epoch 319 : 0.4480504778273879\nValidation Accuracy is : 69.88333333333333 %\n\nLoss at epoch 320 : 0.44826807626298243\nValidation Accuracy is : 69.875 %\n\nLoss at epoch 321 : 0.44830369472088893\nValidation Accuracy is : 69.85 %\n\nLoss at epoch 322 : 0.4485900864932733\nValidation Accuracy is : 69.89166666666667 %\n\nLoss at epoch 323 : 0.448483902032939\nValidation Accuracy is : 69.85833333333333 %\n\nLoss at epoch 324 : 0.44849131204132725\nValidation Accuracy is : 69.85833333333333 %\n\nLoss at epoch 325 : 0.4485870494564084\nValidation Accuracy is : 69.84166666666667 %\n\nLoss at epoch 326 : 0.44881978239261183\nValidation Accuracy is : 69.85 %\n\nLoss at epoch 327 : 0.4488666460835594\nValidation Accuracy is : 69.825 %\n\nLoss at epoch 328 : 0.44896275619404385\nValidation Accuracy is : 69.86666666666666 %\n\nLoss at epoch 329 : 0.44901184402275135\nValidation Accuracy is : 69.85833333333333 %\n\nLoss at epoch 330 : 0.44906584870444205\nValidation Accuracy is : 69.83333333333334 %\n\nLoss at epoch 331 : 0.44917911851698245\nValidation Accuracy is : 69.84166666666667 %\n\nLoss at epoch 332 : 0.4494766738045333\nValidation Accuracy is : 69.81666666666668 %\n\nLoss at epoch 333 : 0.4490981872828999\nValidation Accuracy is : 69.85 %\n\nLoss at epoch 334 : 0.4493942867881591\nValidation Accuracy is : 69.84166666666667 %\n\nLoss at epoch 335 : 0.44950253376008753\nValidation Accuracy is : 69.825 %\n\nLoss at epoch 336 : 0.44959850735219714\nValidation Accuracy is : 69.825 %\n\nLoss at epoch 337 : 0.4496788914358689\nValidation Accuracy is : 69.79166666666666 %\n\nLoss at epoch 338 : 0.44983488111912123\nValidation Accuracy is : 69.81666666666668 %\n\nLoss at epoch 339 : 0.44969787837881553\nValidation Accuracy is : 69.78333333333333 %\n\nLoss at epoch 340 : 0.4499523417970563\nValidation Accuracy is : 69.8 %\n\nLoss at epoch 341 : 0.45006468072921046\nValidation Accuracy is : 69.85 %\n\nLoss at epoch 342 : 0.44997664212505045\nValidation Accuracy is : 69.81666666666668 %\n\nLoss at epoch 343 : 0.4501597269669964\nValidation Accuracy is : 69.83333333333334 %\n\nLoss at epoch 344 : 0.4503479565419543\nValidation Accuracy is : 69.89166666666667 %\n\nLoss at epoch 345 : 0.45016726867072127\nValidation Accuracy is : 69.925 %\n\nLoss at epoch 346 : 0.450327286051494\nValidation Accuracy is : 69.85833333333333 %\n\nLoss at epoch 347 : 0.4503801139681918\nValidation Accuracy is : 69.89999999999999 %\n\nLoss at epoch 348 : 0.4506230938094286\nValidation Accuracy is : 69.89999999999999 %\n\nLoss at epoch 349 : 0.45075699945867975\nValidation Accuracy is : 69.90833333333333 %\n\nLoss at epoch 350 : 0.45057688261346696\nValidation Accuracy is : 69.89166666666667 %\n\nLoss at epoch 351 : 0.45090095416664583\nValidation Accuracy is : 69.875 %\n\nLoss at epoch 352 : 0.4508538988592328\nValidation Accuracy is : 69.90833333333333 %\n\nLoss at epoch 353 : 0.4509878041513015\nValidation Accuracy is : 69.90833333333333 %\n\nLoss at epoch 354 : 0.4509503727288114\nValidation Accuracy is : 69.90833333333333 %\n\nLoss at epoch 355 : 0.4511228455402485\nValidation Accuracy is : 69.90833333333333 %\n\nLoss at epoch 356 : 0.4510505857212764\nValidation Accuracy is : 69.88333333333333 %\n\nLoss at epoch 357 : 0.45128487266703676\nValidation Accuracy is : 69.91666666666667 %\n\nLoss at epoch 358 : 0.45141165014307133\nValidation Accuracy is : 69.91666666666667 %\n\nLoss at epoch 359 : 0.45166005506154155\nValidation Accuracy is : 69.925 %\n\nLoss at epoch 360 : 0.45167083781639455\nValidation Accuracy is : 69.925 %\n\nLoss at epoch 361 : 0.45163177218737793\nValidation Accuracy is : 69.91666666666667 %\n\nLoss at epoch 362 : 0.45168897595062246\nValidation Accuracy is : 69.91666666666667 %\n\nLoss at epoch 363 : 0.45167996486578327\nValidation Accuracy is : 69.95 %\n\nLoss at epoch 364 : 0.45173263254181045\nValidation Accuracy is : 69.94166666666666 %\n\nLoss at epoch 365 : 0.45206151963008007\nValidation Accuracy is : 69.95 %\n\nLoss at epoch 366 : 0.4520543823367885\nValidation Accuracy is : 69.95 %\n\nLoss at epoch 367 : 0.45209704544513823\nValidation Accuracy is : 69.98333333333333 %\n\nLoss at epoch 368 : 0.4521407360196494\nValidation Accuracy is : 70.0 %\n\nLoss at epoch 369 : 0.45232805813215166\nValidation Accuracy is : 69.95 %\n\nLoss at epoch 370 : 0.45242532220524745\nValidation Accuracy is : 70.00833333333333 %\n\nLoss at epoch 371 : 0.45247137794406805\nValidation Accuracy is : 70.0 %\n\nLoss at epoch 372 : 0.45253374345142294\nValidation Accuracy is : 70.00833333333333 %\n\nLoss at epoch 373 : 0.45264626029381066\nValidation Accuracy is : 70.00833333333333 %\n\nLoss at epoch 374 : 0.45274105478413335\nValidation Accuracy is : 69.975 %\n\nLoss at epoch 375 : 0.45277606525750963\nValidation Accuracy is : 70.025 %\n\nLoss at epoch 376 : 0.4530821101514624\nValidation Accuracy is : 70.0 %\n\nLoss at epoch 377 : 0.45276471718195505\nValidation Accuracy is : 69.99166666666666 %\n\nLoss at epoch 378 : 0.45333833040768007\nValidation Accuracy is : 69.96666666666667 %\n\nLoss at epoch 379 : 0.45317888658517785\nValidation Accuracy is : 69.99166666666666 %\n\nLoss at epoch 380 : 0.4533180308284303\nValidation Accuracy is : 70.00833333333333 %\n\nLoss at epoch 381 : 0.45322436169458397\nValidation Accuracy is : 70.025 %\n\nLoss at epoch 382 : 0.45332067821580196\nValidation Accuracy is : 70.03333333333333 %\n\nLoss at epoch 383 : 0.4535146601900217\nValidation Accuracy is : 70.025 %\n\nLoss at epoch 384 : 0.45353633259136983\nValidation Accuracy is : 70.025 %\n\nLoss at epoch 385 : 0.4537372824633964\nValidation Accuracy is : 70.03333333333333 %\n\nLoss at epoch 386 : 0.45383670753768024\nValidation Accuracy is : 70.05 %\n\nLoss at epoch 387 : 0.4537750448835854\nValidation Accuracy is : 70.04166666666667 %\n\nLoss at epoch 388 : 0.4539656989457172\nValidation Accuracy is : 70.025 %\n\nLoss at epoch 389 : 0.45411621090833415\nValidation Accuracy is : 70.05833333333334 %\n\nLoss at epoch 390 : 0.45399415127042625\nValidation Accuracy is : 70.03333333333333 %\n\nLoss at epoch 391 : 0.45417778813705667\nValidation Accuracy is : 70.05 %\n\nLoss at epoch 392 : 0.4543359945605686\nValidation Accuracy is : 70.05833333333334 %\n\nLoss at epoch 393 : 0.4542349447066143\nValidation Accuracy is : 70.05 %\n\nLoss at epoch 394 : 0.4544400544308158\nValidation Accuracy is : 70.04166666666667 %\n\nLoss at epoch 395 : 0.4546958609629173\nValidation Accuracy is : 70.025 %\n\nLoss at epoch 396 : 0.45465448332719643\nValidation Accuracy is : 70.05 %\n\nLoss at epoch 397 : 0.4546377630679819\nValidation Accuracy is : 70.06666666666666 %\n\nLoss at epoch 398 : 0.45477198389903506\nValidation Accuracy is : 70.06666666666666 %\n\nLoss at epoch 399 : 0.4546931724990262\nValidation Accuracy is : 70.05 %\n\nLoss at epoch 400 : 0.4550050384853885\nValidation Accuracy is : 70.04166666666667 %\n\nLoss at epoch 401 : 0.45492722318037265\nValidation Accuracy is : 70.01666666666667 %\n\nLoss at epoch 402 : 0.45507194949679136\nValidation Accuracy is : 70.05 %\n\nLoss at epoch 403 : 0.4553447990703621\nValidation Accuracy is : 70.06666666666666 %\n\nLoss at epoch 404 : 0.4551944142429773\nValidation Accuracy is : 70.04166666666667 %\n\nLoss at epoch 405 : 0.45537846451353875\nValidation Accuracy is : 70.04166666666667 %\n\nLoss at epoch 406 : 0.45547665828987305\nValidation Accuracy is : 70.05 %\n\nLoss at epoch 407 : 0.45553100763788035\nValidation Accuracy is : 70.05 %\n\nLoss at epoch 408 : 0.45556944425100815\nValidation Accuracy is : 70.03333333333333 %\n\nLoss at epoch 409 : 0.4557855860232433\nValidation Accuracy is : 70.04166666666667 %\n\nLoss at epoch 410 : 0.4559839813840419\nValidation Accuracy is : 70.025 %\n\nLoss at epoch 411 : 0.45592299781524814\nValidation Accuracy is : 70.05833333333334 %\n\nLoss at epoch 412 : 0.455898981028036\nValidation Accuracy is : 70.025 %\n\nLoss at epoch 413 : 0.4560981616613514\nValidation Accuracy is : 70.025 %\n\nLoss at epoch 414 : 0.4562192020286727\nValidation Accuracy is : 70.0 %\n\nLoss at epoch 415 : 0.45595959573844874\nValidation Accuracy is : 70.01666666666667 %\n\nLoss at epoch 416 : 0.45632789803210844\nValidation Accuracy is : 70.05 %\n\nLoss at epoch 417 : 0.4564071024452559\nValidation Accuracy is : 70.025 %\n\nLoss at epoch 418 : 0.45655091424218386\nValidation Accuracy is : 70.01666666666667 %\n\nLoss at epoch 419 : 0.4566480813012926\nValidation Accuracy is : 70.04166666666667 %\n\nLoss at epoch 420 : 0.45674628927130456\nValidation Accuracy is : 70.05 %\n\nLoss at epoch 421 : 0.4566832285046244\nValidation Accuracy is : 70.05 %\n\nLoss at epoch 422 : 0.4567275126486403\nValidation Accuracy is : 70.01666666666667 %\n\nLoss at epoch 423 : 0.45691451624994806\nValidation Accuracy is : 70.05 %\n\nLoss at epoch 424 : 0.4569027324272635\nValidation Accuracy is : 70.05 %\n\nLoss at epoch 425 : 0.4570737658676198\nValidation Accuracy is : 70.025 %\n\nLoss at epoch 426 : 0.45716966098801665\nValidation Accuracy is : 70.06666666666666 %\n\nLoss at epoch 427 : 0.4572322079480166\nValidation Accuracy is : 70.09166666666667 %\n\nLoss at epoch 428 : 0.4574271471387509\nValidation Accuracy is : 70.09166666666667 %\n\nLoss at epoch 429 : 0.4575634236525119\nValidation Accuracy is : 70.09166666666667 %\n\nLoss at epoch 430 : 0.45729570259917657\nValidation Accuracy is : 70.10833333333333 %\n\nLoss at epoch 431 : 0.4576387252309057\nValidation Accuracy is : 70.08333333333333 %\n\nLoss at epoch 432 : 0.4578187463780179\nValidation Accuracy is : 70.08333333333333 %\n\nLoss at epoch 433 : 0.45787889048429165\nValidation Accuracy is : 70.08333333333333 %\n\nLoss at epoch 434 : 0.4578192301489837\nValidation Accuracy is : 70.11666666666667 %\n\nLoss at epoch 435 : 0.4578267363018825\nValidation Accuracy is : 70.08333333333333 %\n\nLoss at epoch 436 : 0.45813645521695695\nValidation Accuracy is : 70.09166666666667 %\n\nLoss at epoch 437 : 0.4579221538107692\nValidation Accuracy is : 70.075 %\n\nLoss at epoch 438 : 0.45831730040246726\nValidation Accuracy is : 70.06666666666666 %\n\nLoss at epoch 439 : 0.45836568560703345\nValidation Accuracy is : 70.06666666666666 %\n\nLoss at epoch 440 : 0.45852173451859424\nValidation Accuracy is : 70.08333333333333 %\n\nLoss at epoch 441 : 0.45851674375457446\nValidation Accuracy is : 70.075 %\n\nLoss at epoch 442 : 0.4585865398063889\nValidation Accuracy is : 70.075 %\n\nLoss at epoch 443 : 0.45872481983672675\nValidation Accuracy is : 70.09166666666667 %\n\nLoss at epoch 444 : 0.4586779702019807\nValidation Accuracy is : 70.09166666666667 %\n\nLoss at epoch 445 : 0.45864532282386644\nValidation Accuracy is : 70.08333333333333 %\n\nLoss at epoch 446 : 0.458907057725929\nValidation Accuracy is : 70.10833333333333 %\n\nLoss at epoch 447 : 0.4590361847275309\nValidation Accuracy is : 70.1 %\n\nLoss at epoch 448 : 0.4590433567456747\nValidation Accuracy is : 70.10833333333333 %\n\nLoss at epoch 449 : 0.45907498470961705\nValidation Accuracy is : 70.09166666666667 %\n\nLoss at epoch 450 : 0.4592512196675009\nValidation Accuracy is : 70.13333333333334 %\n\nLoss at epoch 451 : 0.45939951824500797\nValidation Accuracy is : 70.14166666666667 %\n\nLoss at epoch 452 : 0.45967035288381114\nValidation Accuracy is : 70.09166666666667 %\n\nLoss at epoch 453 : 0.45940195042595605\nValidation Accuracy is : 70.1 %\n\nLoss at epoch 454 : 0.45964646878634147\nValidation Accuracy is : 70.1 %\n\nLoss at epoch 455 : 0.459679754759959\nValidation Accuracy is : 70.125 %\n\nLoss at epoch 456 : 0.4597255683920526\nValidation Accuracy is : 70.14166666666667 %\n\nLoss at epoch 457 : 0.4599013287439851\nValidation Accuracy is : 70.10833333333333 %\n\nLoss at epoch 458 : 0.4599789816458721\nValidation Accuracy is : 70.08333333333333 %\n\nLoss at epoch 459 : 0.4601306456678674\nValidation Accuracy is : 70.10833333333333 %\n\nLoss at epoch 460 : 0.4601893713921436\nValidation Accuracy is : 70.075 %\n\nLoss at epoch 461 : 0.46010090433867434\nValidation Accuracy is : 70.06666666666666 %\n\nLoss at epoch 462 : 0.46035665870947917\nValidation Accuracy is : 70.06666666666666 %\n\nLoss at epoch 463 : 0.4603481589052424\nValidation Accuracy is : 70.10833333333333 %\n\nLoss at epoch 464 : 0.4604074710780133\nValidation Accuracy is : 70.09166666666667 %\n\nLoss at epoch 465 : 0.460558654199611\nValidation Accuracy is : 70.1 %\n\nLoss at epoch 466 : 0.46053638687990184\nValidation Accuracy is : 70.075 %\n\nLoss at epoch 467 : 0.4608333191026883\nValidation Accuracy is : 70.10833333333333 %\n\nLoss at epoch 468 : 0.4609379446874705\nValidation Accuracy is : 70.1 %\n\nLoss at epoch 469 : 0.4609026813204986\nValidation Accuracy is : 70.075 %\n\nLoss at epoch 470 : 0.4610487777377375\nValidation Accuracy is : 70.05 %\n\nLoss at epoch 471 : 0.4609031943780401\nValidation Accuracy is : 70.05833333333334 %\n\nLoss at epoch 472 : 0.46130851078764057\nValidation Accuracy is : 70.05 %\n\nLoss at epoch 473 : 0.4613523317208072\nValidation Accuracy is : 70.05 %\n\nLoss at epoch 474 : 0.46111023404072293\nValidation Accuracy is : 70.05833333333334 %\n\nLoss at epoch 475 : 0.4615895457189239\nValidation Accuracy is : 70.04166666666667 %\n\nLoss at epoch 476 : 0.4615680054475977\nValidation Accuracy is : 70.08333333333333 %\n\nLoss at epoch 477 : 0.4616641957266469\nValidation Accuracy is : 70.05833333333334 %\n\nLoss at epoch 478 : 0.4616633781365721\nValidation Accuracy is : 70.075 %\n\nLoss at epoch 479 : 0.46166162267937616\nValidation Accuracy is : 70.05833333333334 %\n\nLoss at epoch 480 : 0.4617534430972222\nValidation Accuracy is : 70.08333333333333 %\n\nLoss at epoch 481 : 0.4621357537159519\nValidation Accuracy is : 70.125 %\n\nLoss at epoch 482 : 0.46203938157016117\nValidation Accuracy is : 70.075 %\n\nLoss at epoch 483 : 0.4623480473865286\nValidation Accuracy is : 70.10833333333333 %\n\nLoss at epoch 484 : 0.46224589156988594\nValidation Accuracy is : 70.11666666666667 %\n\nLoss at epoch 485 : 0.4623291422494907\nValidation Accuracy is : 70.10833333333333 %\n\nLoss at epoch 486 : 0.46253284959803925\nValidation Accuracy is : 70.10833333333333 %\n\nLoss at epoch 487 : 0.4624650101436911\nValidation Accuracy is : 70.16666666666667 %\n\nLoss at epoch 488 : 0.46246769505463287\nValidation Accuracy is : 70.125 %\n\nLoss at epoch 489 : 0.46264455914268443\nValidation Accuracy is : 70.11666666666667 %\n\nLoss at epoch 490 : 0.4628688158992693\nValidation Accuracy is : 70.09166666666667 %\n\nLoss at epoch 491 : 0.4628325577600248\nValidation Accuracy is : 70.09166666666667 %\n\nLoss at epoch 492 : 0.46286179267647387\nValidation Accuracy is : 70.13333333333334 %\n\nLoss at epoch 493 : 0.46307188572113744\nValidation Accuracy is : 70.09166666666667 %\n\nLoss at epoch 494 : 0.4631547304012309\nValidation Accuracy is : 70.1 %\n\nLoss at epoch 495 : 0.4631793776338607\nValidation Accuracy is : 70.1 %\n\nLoss at epoch 496 : 0.4632421325761869\nValidation Accuracy is : 70.10833333333333 %\n\nLoss at epoch 497 : 0.46346129583612894\nValidation Accuracy is : 70.11666666666667 %\n\nLoss at epoch 498 : 0.4636147392783688\nValidation Accuracy is : 70.1 %\n\nLoss at epoch 499 : 0.46360728056765904\nValidation Accuracy is : 70.08333333333333 %\n\nLoss at epoch 500 : 0.4636478332738603\nValidation Accuracy is : 70.09166666666667 %\n\n"
    }
   ],
   "source": [
    "biases, weights = init([784, 700, 600, 500, 400, 300, 200, 100, 10])\n",
    "\n",
    "Wdfa, bdfa = dfa_train(X_train, y_train, X_val, y_val, n_epochs=500, lr=1e-6, batch_size=200)"
   ]
  }
 ],
 "metadata": {
  "kernelspec": {
   "display_name": "Python 3.8.3 64-bit",
   "language": "python",
   "name": "python_defaultSpec_1598854830314"
  },
  "language_info": {
   "codemirror_mode": {
    "name": "ipython",
    "version": 3
   },
   "file_extension": ".py",
   "mimetype": "text/x-python",
   "name": "python",
   "nbconvert_exporter": "python",
   "pygments_lexer": "ipython3",
   "version": "3.8.3-final"
  }
 },
 "nbformat": 4,
 "nbformat_minor": 2
}