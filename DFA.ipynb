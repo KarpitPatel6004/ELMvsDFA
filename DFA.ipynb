{
 "cells": [
  {
   "cell_type": "code",
   "execution_count": 1,
   "metadata": {},
   "outputs": [],
   "source": [
    "import numpy as np\n",
    "import pandas as pd\n",
    "import matplotlib.pyplot as plt\n",
    "from sklearn.model_selection import train_test_split\n",
    "from tqdm import tqdm\n",
    "import tensorflow as tf\n",
    "from tensorflow import keras\n",
    "from tensorflow.keras import Sequential\n",
    "from tensorflow.keras.optimizers import Adam,SGD\n",
    "from tensorflow.keras.preprocessing import image\n",
    "from keras.utils.np_utils import to_categorical\n",
    "from tensorflow.keras.layers import Flatten, Dense, Dropout, BatchNormalization, Conv2D, MaxPool2D"
   ]
  },
  {
   "cell_type": "code",
   "execution_count": 2,
   "metadata": {
    "tags": []
   },
   "outputs": [
    {
     "output_type": "stream",
     "name": "stdout",
     "text": "(60000, 785)\n(10000, 785)\n"
    }
   ],
   "source": [
    "#data = pd.read_csv(\"C:/Users/karpit/Downloads/ML/SRI Project/Fmnist/fashion-mnist_train.csv\")\n",
    "data = pd.read_csv(\"D:/Downloads/Fashion MNIST/fashion-mnist_train.csv\")\n",
    "#test = pd.read_csv(\"C:/Users/karpit/Downloads/ML/SRI Project/Fmnist/fashion-mnist_test.csv\")\n",
    "test = pd.read_csv(\"D:/Downloads/Fashion MNIST/fashion-mnist_test.csv\")\n",
    "\n",
    "data = np.array(data)\n",
    "test = np.array(test)\n",
    "\n",
    "print(data.shape)\n",
    "print(test.shape)"
   ]
  },
  {
   "cell_type": "code",
   "execution_count": 3,
   "metadata": {},
   "outputs": [
    {
     "output_type": "execute_result",
     "data": {
      "text/plain": "((60000, 784), (60000,), (10000, 784), (10000,))"
     },
     "metadata": {},
     "execution_count": 3
    }
   ],
   "source": [
    "train_X = data[:,1:]/255\n",
    "test_X = test[:,1:]/255\n",
    "\n",
    "train_X = train_X.reshape(train_X.shape[0],784)\n",
    "test_X = test_X.reshape(test_X.shape[0],784)\n",
    "\n",
    "train_y = data[:,0]\n",
    "test_y = test[:,0]\n",
    "\n",
    "train_X.shape, train_y.shape, test_X.shape, test_y.shape"
   ]
  },
  {
   "cell_type": "code",
   "execution_count": 4,
   "metadata": {},
   "outputs": [
    {
     "output_type": "execute_result",
     "data": {
      "text/plain": "((60000, 10), (10000, 10))"
     },
     "metadata": {},
     "execution_count": 4
    }
   ],
   "source": [
    "train_y = to_categorical(train_y,10)\n",
    "test_y = to_categorical(test_y,10)\n",
    "\n",
    "train_y.shape, test_y.shape"
   ]
  },
  {
   "cell_type": "code",
   "execution_count": 5,
   "metadata": {
    "tags": []
   },
   "outputs": [
    {
     "output_type": "stream",
     "name": "stdout",
     "text": "Training data shape :  (48000, 784) (48000, 10)\nValidation data shape :  (12000, 784) (12000, 10)\n"
    }
   ],
   "source": [
    "X_train, X_val, y_train, y_val = train_test_split(train_X, train_y, test_size = 0.2)\n",
    "\n",
    "\n",
    "print (\"Training data shape : \",X_train.shape, y_train.shape)\n",
    "print (\"Validation data shape : \",X_val.shape, y_val.shape)"
   ]
  },
  {
   "cell_type": "code",
   "execution_count": 8,
   "metadata": {},
   "outputs": [],
   "source": [
    "from sklearn.metrics import log_loss\n",
    "\n",
    "def init(sizes):\n",
    "    num_layers = len(sizes)\n",
    "    \n",
    "    biases = [np.random.randn(y, 1) for y in sizes[1:]]\n",
    "    weights = [np.random.randn(y, x)*np.sqrt(2/x) for x, y in zip(sizes[:-1], sizes[1:])]\n",
    "        \n",
    "    return biases, weights\n",
    "\n",
    "def dx_relu(a):\n",
    "    da = np.ones_like(a)\n",
    "    da[a<0] = 0\n",
    "    return da\n",
    "\n",
    "\"\"\"def dx_relu(a, alpha = 0.3):\n",
    "    da = np.ones_like(a)\n",
    "    da[a<0] = alpha\n",
    "    return da\"\"\"\n",
    "\n",
    "def forward_pass(w, b, x):\n",
    "    a = []\n",
    "    h = []\n",
    "    num_layer = len(w)+1\n",
    "    for i in range(num_layer-1):\n",
    "        t = np.matmul(w[i],x) + np.tile(b[i],x.shape[1])\n",
    "        x = np.matmul(w[i],x)\n",
    "        a.append(t)\n",
    "        if i != num_layer-2:\n",
    "            #h.append(tf.nn.relu(t, alpha = 0.3))\n",
    "            h.append(tf.nn.relu(t))\n",
    "            \n",
    "    h.append(tf.nn.sigmoid(t))\n",
    "    return a, h\n",
    "\n",
    "\n",
    "\n",
    "def dfa_backward_pass(e, h, B, a, x):\n",
    "    dW = [np.zeros(w.shape) for w in weights]\n",
    "    db = [np.zeros(b.shape) for b in biases]\n",
    "    \n",
    "    num_layer = len(weights) + 1\n",
    "    \n",
    "    dW[-1] = -np.matmul(e, np.transpose(h[-2]))\n",
    "    tmp = -np.sum(e, axis=1)\n",
    "    tmp = tmp[:,np.newaxis]\n",
    "    db[-1] = tmp\n",
    "    \n",
    "    for l in range(2,num_layer):\n",
    "        da = np.matmul(B[-l+1], e)*dx_relu(a[-l])\n",
    "        if l != num_layer-1:\n",
    "            dW[-l] = -np.matmul(da, np.transpose(h[-l-1]))\n",
    "        else :\n",
    "            dW[-l] = -np.matmul(da, np.transpose(x))\n",
    "        tmp = -np.sum(da, axis=1)\n",
    "        tmp = tmp[:,np.newaxis]\n",
    "        db[-l] = tmp\n",
    "    \n",
    "    return dW, db\n",
    "\n",
    "\n",
    "def dfa_train(x, y, X_val, y_val, n_epochs=10, lr=1e-3, batch_size=200):\n",
    "    x = np.transpose(x)\n",
    "    y = np.transpose(y)\n",
    "    \n",
    "    num_layer = len(weights) + 1\n",
    "    \n",
    "    B=[]\n",
    "    # initialization of random matrix for FA\n",
    "    '''for i in range(num_layer-2):\n",
    "        shape = weights[i+1].shape\n",
    "        B.append(np.random.randn(shape[1], shape[0]))'''\n",
    "    \n",
    "    # initialization of random matrix for DFA\n",
    "    for i in range(num_layer-2):\n",
    "        shape = weights[i+1].shape\n",
    "        B.append(np.random.randn(shape[1], 10))\n",
    "        \n",
    "    \n",
    "    dataset_size = x.shape[1]\n",
    "    n_batches = dataset_size//batch_size\n",
    "    for epoch in range(n_epochs):\n",
    "        perm = np.random.permutation(x.shape[1])\n",
    "        x = x[:, perm]\n",
    "        y = y[:, perm]\n",
    "        loss = 0.\n",
    "        for j in range(n_batches):\n",
    "            samples = x[:, j*batch_size:(j+1)*batch_size]\n",
    "            targets = y[:, j*batch_size:(j+1)*batch_size]\n",
    "            a, h = forward_pass(weights, biases, samples)\n",
    "            error = h[-1] - targets\n",
    "            preds = np.argmax(h[-1], axis=0) \n",
    "            truth = np.argmax(targets, axis=0)\n",
    "            loss_on_batch = log_loss(targets, h[-1])\n",
    "            \n",
    "            dW, db = dfa_backward_pass(error, h, B, a, samples)\n",
    "            \n",
    "            \n",
    "            for l in range(len(dW)):\n",
    "                weights[l] += lr*dW[l]\n",
    "                biases[l] += lr*db[l]\n",
    "\n",
    "            loss += loss_on_batch\n",
    "        \n",
    "        print ('Loss at epoch', epoch+1, ':', loss/x.shape[1])\n",
    "        \n",
    "        outputs = forward_pass(weights, biases, X_val.T)[-1]\n",
    "        p = np.argmax(outputs[-1], axis=0)\n",
    "        actual = np.argmax(y_val.T, axis=0)\n",
    "        val_acc =  (np.sum(p == actual)/p.shape[0])*100\n",
    "        \n",
    "        print('Validation Accuracy is :',val_acc, '%\\n')\n",
    "     \n",
    "    return weights, biases\n",
    "\n"
   ]
  },
  {
   "cell_type": "code",
   "execution_count": 9,
   "metadata": {
    "tags": [
     "outputPrepend"
    ]
   },
   "outputs": [
    {
     "output_type": "stream",
     "name": "stdout",
     "text": " : 63.19166666666667 %\n\nLoss at epoch 257 : 1.2853403512289967\nValidation Accuracy is : 54.13333333333333 %\n\nLoss at epoch 258 : 1.2842747148793419\nValidation Accuracy is : 51.758333333333326 %\n\nLoss at epoch 259 : 1.2806292076071795\nValidation Accuracy is : 55.474999999999994 %\n\nLoss at epoch 260 : 1.2907027822555517\nValidation Accuracy is : 54.40833333333334 %\n\nLoss at epoch 261 : 1.2685828637953038\nValidation Accuracy is : 61.12499999999999 %\n\nLoss at epoch 262 : 1.3079742887580463\nValidation Accuracy is : 66.23333333333333 %\n\nLoss at epoch 263 : 1.299472299397823\nValidation Accuracy is : 63.56666666666667 %\n\nLoss at epoch 264 : 1.275437398718461\nValidation Accuracy is : 63.28333333333334 %\n\nLoss at epoch 265 : 1.310365905253461\nValidation Accuracy is : 69.95833333333333 %\n\nLoss at epoch 266 : 1.2867132393923244\nValidation Accuracy is : 59.983333333333334 %\n\nLoss at epoch 267 : 1.2840664367367312\nValidation Accuracy is : 61.76666666666667 %\n\nLoss at epoch 268 : 1.2797589687894022\nValidation Accuracy is : 59.55833333333334 %\n\nLoss at epoch 269 : 1.3050951424698578\nValidation Accuracy is : 73.2 %\n\nLoss at epoch 270 : 1.301474308625974\nValidation Accuracy is : 70.575 %\n\nLoss at epoch 271 : 1.259290220030608\nValidation Accuracy is : 60.050000000000004 %\n\nLoss at epoch 272 : 1.2821716351075034\nValidation Accuracy is : 71.875 %\n\nLoss at epoch 273 : 1.263459380973998\nValidation Accuracy is : 53.80833333333334 %\n\nLoss at epoch 274 : 1.2803078143395794\nValidation Accuracy is : 62.075 %\n\nLoss at epoch 275 : 1.304796682204527\nValidation Accuracy is : 63.4 %\n\nLoss at epoch 276 : 1.266489524057964\nValidation Accuracy is : 65.3 %\n\nLoss at epoch 277 : 1.2853973602728248\nValidation Accuracy is : 60.925 %\n\nLoss at epoch 278 : 1.2866660630436555\nValidation Accuracy is : 60.516666666666666 %\n\nLoss at epoch 279 : 1.2877465876232361\nValidation Accuracy is : 65.54166666666667 %\n\nLoss at epoch 280 : 1.3018103241276884\nValidation Accuracy is : 59.45 %\n\nLoss at epoch 281 : 1.2600396327267582\nValidation Accuracy is : 64.93333333333334 %\n\nLoss at epoch 282 : 1.3159122849134703\nValidation Accuracy is : 67.925 %\n\nLoss at epoch 283 : 1.3145003151064654\nValidation Accuracy is : 67.55833333333334 %\n\nLoss at epoch 284 : 1.255696414450956\nValidation Accuracy is : 67.09166666666667 %\n\nLoss at epoch 285 : 1.2778778590310158\nValidation Accuracy is : 64.86666666666666 %\n\nLoss at epoch 286 : 1.2815188824033577\nValidation Accuracy is : 56.00000000000001 %\n\nLoss at epoch 287 : 1.2934036759249798\nValidation Accuracy is : 59.34166666666667 %\n\nLoss at epoch 288 : 1.2849654531786798\nValidation Accuracy is : 68.29166666666666 %\n\nLoss at epoch 289 : 1.2710191443916115\nValidation Accuracy is : 56.666666666666664 %\n\nLoss at epoch 290 : 1.3058993895604367\nValidation Accuracy is : 68.76666666666667 %\n\nLoss at epoch 291 : 1.2850119553518615\nValidation Accuracy is : 70.975 %\n\nLoss at epoch 292 : 1.2884574890134655\nValidation Accuracy is : 68.39166666666667 %\n\nLoss at epoch 293 : 1.283502965649079\nValidation Accuracy is : 70.75833333333334 %\n\nLoss at epoch 294 : 1.2873400795167602\nValidation Accuracy is : 72.19166666666666 %\n\nLoss at epoch 295 : 1.275408794381079\nValidation Accuracy is : 65.09166666666667 %\n\nLoss at epoch 296 : 1.2884084608231805\nValidation Accuracy is : 68.65 %\n\nLoss at epoch 297 : 1.2561656512938475\nValidation Accuracy is : 62.66666666666667 %\n\nLoss at epoch 298 : 1.2577800789761937\nValidation Accuracy is : 67.01666666666667 %\n\nLoss at epoch 299 : 1.2988601706995648\nValidation Accuracy is : 64.69166666666666 %\n\nLoss at epoch 300 : 1.2465060535277344\nValidation Accuracy is : 48.791666666666664 %\n\nLoss at epoch 301 : 1.277900709956742\nValidation Accuracy is : 60.6 %\n\nLoss at epoch 302 : 1.2875832420912408\nValidation Accuracy is : 71.49166666666666 %\n\nLoss at epoch 303 : 1.2722623376512228\nValidation Accuracy is : 70.99166666666666 %\n\nLoss at epoch 304 : 1.257982801702791\nValidation Accuracy is : 57.875 %\n\nLoss at epoch 305 : 1.2926944777064169\nValidation Accuracy is : 72.50833333333333 %\n\nLoss at epoch 306 : 1.2792362129467778\nValidation Accuracy is : 57.81666666666667 %\n\nLoss at epoch 307 : 1.2920699156829198\nValidation Accuracy is : 62.5 %\n\nLoss at epoch 308 : 1.2756096586669938\nValidation Accuracy is : 68.91666666666667 %\n\nLoss at epoch 309 : 1.2595778655467214\nValidation Accuracy is : 61.175000000000004 %\n\nLoss at epoch 310 : 1.2884625886232004\nValidation Accuracy is : 70.16666666666667 %\n\nLoss at epoch 311 : 1.2758659158185635\nValidation Accuracy is : 48.125 %\n\nLoss at epoch 312 : 1.2822617997116843\nValidation Accuracy is : 70.11666666666667 %\n\nLoss at epoch 313 : 1.282079682314684\nValidation Accuracy is : 69.19166666666666 %\n\nLoss at epoch 314 : 1.2809704491743703\nValidation Accuracy is : 62.83333333333333 %\n\nLoss at epoch 315 : 1.2719733173359389\nValidation Accuracy is : 63.608333333333334 %\n\nLoss at epoch 316 : 1.2999802165929804\nValidation Accuracy is : 73.73333333333333 %\n\nLoss at epoch 317 : 1.2580129243084097\nValidation Accuracy is : 59.13333333333334 %\n\nLoss at epoch 318 : 1.2949218879580133\nValidation Accuracy is : 65.225 %\n\nLoss at epoch 319 : 1.2322274811157454\nValidation Accuracy is : 62.00833333333333 %\n\nLoss at epoch 320 : 1.2684110333753922\nValidation Accuracy is : 64.64166666666667 %\n\nLoss at epoch 321 : 1.2790714540164025\nValidation Accuracy is : 63.824999999999996 %\n\nLoss at epoch 322 : 1.2926923686968215\nValidation Accuracy is : 70.8 %\n\nLoss at epoch 323 : 1.2611612144451083\nValidation Accuracy is : 67.425 %\n\nLoss at epoch 324 : 1.2624273580341254\nValidation Accuracy is : 70.41666666666667 %\n\nLoss at epoch 325 : 1.2711071080482823\nValidation Accuracy is : 63.083333333333336 %\n\nLoss at epoch 326 : 1.272812558203814\nValidation Accuracy is : 65.9 %\n\nLoss at epoch 327 : 1.2639171994479286\nValidation Accuracy is : 67.28333333333333 %\n\nLoss at epoch 328 : 1.2670040028971294\nValidation Accuracy is : 55.25833333333333 %\n\nLoss at epoch 329 : 1.2587727566840115\nValidation Accuracy is : 69.125 %\n\nLoss at epoch 330 : 1.2491315511990981\nValidation Accuracy is : 53.175 %\n\nLoss at epoch 331 : 1.2943582003915128\nValidation Accuracy is : 60.6 %\n\nLoss at epoch 332 : 1.2703067304598197\nValidation Accuracy is : 45.29166666666667 %\n\nLoss at epoch 333 : 1.2777613057750916\nValidation Accuracy is : 65.2 %\n\nLoss at epoch 334 : 1.2635318083970783\nValidation Accuracy is : 67.91666666666667 %\n\nLoss at epoch 335 : 1.2543842744663458\nValidation Accuracy is : 66.54166666666667 %\n\nLoss at epoch 336 : 1.276771218325492\nValidation Accuracy is : 67.525 %\n\nLoss at epoch 337 : 1.261044574620437\nValidation Accuracy is : 58.74166666666667 %\n\nLoss at epoch 338 : 1.265808942062214\nValidation Accuracy is : 52.949999999999996 %\n\nLoss at epoch 339 : 1.2661595285808316\nValidation Accuracy is : 61.70833333333333 %\n\nLoss at epoch 340 : 1.2668936048848918\nValidation Accuracy is : 61.891666666666666 %\n\nLoss at epoch 341 : 1.3120719919122048\nValidation Accuracy is : 54.89166666666667 %\n\nLoss at epoch 342 : 1.2709561137680687\nValidation Accuracy is : 45.525 %\n\nLoss at epoch 343 : 1.272163252539013\nValidation Accuracy is : 64.95833333333333 %\n\nLoss at epoch 344 : 1.266469855172573\nValidation Accuracy is : 64.15833333333333 %\n\nLoss at epoch 345 : 1.258175808925035\nValidation Accuracy is : 69.13333333333334 %\n\nLoss at epoch 346 : 1.2682681509651976\nValidation Accuracy is : 66.10000000000001 %\n\nLoss at epoch 347 : 1.2583959171771555\nValidation Accuracy is : 51.63333333333333 %\n\nLoss at epoch 348 : 1.2661070637873229\nValidation Accuracy is : 63.06666666666667 %\n\nLoss at epoch 349 : 1.2648219566175938\nValidation Accuracy is : 49.016666666666666 %\n\nLoss at epoch 350 : 1.2795630087817849\nValidation Accuracy is : 72.41666666666666 %\n\nLoss at epoch 351 : 1.2586900517346307\nValidation Accuracy is : 74.675 %\n\nLoss at epoch 352 : 1.2486747393298316\nValidation Accuracy is : 66.07499999999999 %\n\nLoss at epoch 353 : 1.2684580063673507\nValidation Accuracy is : 64.03333333333333 %\n\nLoss at epoch 354 : 1.260337116114936\nValidation Accuracy is : 67.50833333333334 %\n\nLoss at epoch 355 : 1.2874688572778172\nValidation Accuracy is : 63.366666666666674 %\n\nLoss at epoch 356 : 1.2561702681392788\nValidation Accuracy is : 67.4 %\n\nLoss at epoch 357 : 1.2779386974747113\nValidation Accuracy is : 63.775000000000006 %\n\nLoss at epoch 358 : 1.2760462878230594\nValidation Accuracy is : 69.76666666666667 %\n\nLoss at epoch 359 : 1.2542915193316968\nValidation Accuracy is : 66.78333333333333 %\n\nLoss at epoch 360 : 1.2931735760419187\nValidation Accuracy is : 70.60833333333333 %\n\nLoss at epoch 361 : 1.2881359793721034\nValidation Accuracy is : 69.75833333333334 %\n\nLoss at epoch 362 : 1.2721887209875715\nValidation Accuracy is : 60.09166666666667 %\n\nLoss at epoch 363 : 1.266357089265102\nValidation Accuracy is : 52.93333333333333 %\n\nLoss at epoch 364 : 1.261406470578035\nValidation Accuracy is : 68.55 %\n\nLoss at epoch 365 : 1.3035948113066709\nValidation Accuracy is : 72.84166666666667 %\n\nLoss at epoch 366 : 1.2360670310536472\nValidation Accuracy is : 67.08333333333333 %\n\nLoss at epoch 367 : 1.2855149748991743\nValidation Accuracy is : 58.10833333333333 %\n\nLoss at epoch 368 : 1.2827863898804435\nValidation Accuracy is : 59.36666666666667 %\n\nLoss at epoch 369 : 1.2510989693075891\nValidation Accuracy is : 68.525 %\n\nLoss at epoch 370 : 1.2504031976312713\nValidation Accuracy is : 71.49166666666666 %\n\nLoss at epoch 371 : 1.2649182782809003\nValidation Accuracy is : 63.7 %\n\nLoss at epoch 372 : 1.262639732748305\nValidation Accuracy is : 70.325 %\n\nLoss at epoch 373 : 1.2646133384327338\nValidation Accuracy is : 54.766666666666666 %\n\nLoss at epoch 374 : 1.257855967298788\nValidation Accuracy is : 64.075 %\n\nLoss at epoch 375 : 1.2696991817409216\nValidation Accuracy is : 53.11666666666667 %\n\nLoss at epoch 376 : 1.2489449645845823\nValidation Accuracy is : 66.675 %\n\nLoss at epoch 377 : 1.262834708696051\nValidation Accuracy is : 65.91666666666667 %\n\nLoss at epoch 378 : 1.2665665739712573\nValidation Accuracy is : 73.70833333333333 %\n\nLoss at epoch 379 : 1.2325630194973802\nValidation Accuracy is : 61.18333333333334 %\n\nLoss at epoch 380 : 1.2838913118069775\nValidation Accuracy is : 70.21666666666667 %\n\nLoss at epoch 381 : 1.2339780382226155\nValidation Accuracy is : 57.90833333333333 %\n\nLoss at epoch 382 : 1.2681001050743221\nValidation Accuracy is : 63.79166666666667 %\n\nLoss at epoch 383 : 1.2189130072391179\nValidation Accuracy is : 59.55833333333334 %\n\nLoss at epoch 384 : 1.2575862937392546\nValidation Accuracy is : 66.38333333333334 %\n\nLoss at epoch 385 : 1.2586483900988104\nValidation Accuracy is : 67.75 %\n\nLoss at epoch 386 : 1.2587948262176356\nValidation Accuracy is : 68.55833333333334 %\n\nLoss at epoch 387 : 1.2566855056640938\nValidation Accuracy is : 74.09166666666667 %\n\nLoss at epoch 388 : 1.2449461391770085\nValidation Accuracy is : 73.075 %\n\nLoss at epoch 389 : 1.23835846210737\nValidation Accuracy is : 68.575 %\n\nLoss at epoch 390 : 1.2586607727488555\nValidation Accuracy is : 73.675 %\n\nLoss at epoch 391 : 1.2565495944837748\nValidation Accuracy is : 62.99166666666667 %\n\nLoss at epoch 392 : 1.2544693233370703\nValidation Accuracy is : 70.45833333333333 %\n\nLoss at epoch 393 : 1.2717678036156312\nValidation Accuracy is : 74.4 %\n\nLoss at epoch 394 : 1.2681387510729751\nValidation Accuracy is : 56.08333333333333 %\n\nLoss at epoch 395 : 1.243661694172472\nValidation Accuracy is : 69.79166666666666 %\n\nLoss at epoch 396 : 1.2622494541000588\nValidation Accuracy is : 65.95 %\n\nLoss at epoch 397 : 1.2568100179495678\nValidation Accuracy is : 62.483333333333334 %\n\nLoss at epoch 398 : 1.276920880689795\nValidation Accuracy is : 67.45 %\n\nLoss at epoch 399 : 1.2365270119413843\nValidation Accuracy is : 51.949999999999996 %\n\nLoss at epoch 400 : 1.260529879588363\nValidation Accuracy is : 68.84166666666667 %\n\nLoss at epoch 401 : 1.259111703988854\nValidation Accuracy is : 70.80833333333332 %\n\nLoss at epoch 402 : 1.2917170384752052\nValidation Accuracy is : 58.63333333333334 %\n\nLoss at epoch 403 : 1.236390025198272\nValidation Accuracy is : 71.525 %\n\nLoss at epoch 404 : 1.257398653228035\nValidation Accuracy is : 54.37499999999999 %\n\nLoss at epoch 405 : 1.2809231480138388\nValidation Accuracy is : 56.36666666666667 %\n\nLoss at epoch 406 : 1.243790629327531\nValidation Accuracy is : 70.84166666666667 %\n\nLoss at epoch 407 : 1.2638466252246947\nValidation Accuracy is : 69.21666666666667 %\n\nLoss at epoch 408 : 1.2598418841963879\nValidation Accuracy is : 67.69166666666668 %\n\nLoss at epoch 409 : 1.255957865203407\nValidation Accuracy is : 63.925 %\n\nLoss at epoch 410 : 1.268406984877172\nValidation Accuracy is : 71.825 %\n\nLoss at epoch 411 : 1.2696420071736936\nValidation Accuracy is : 54.85 %\n\nLoss at epoch 412 : 1.2611033742680513\nValidation Accuracy is : 61.25000000000001 %\n\nLoss at epoch 413 : 1.2784639726070102\nValidation Accuracy is : 54.625 %\n\nLoss at epoch 414 : 1.2257147848478689\nValidation Accuracy is : 69.13333333333334 %\n\nLoss at epoch 415 : 1.2549150025661326\nValidation Accuracy is : 57.55833333333334 %\n\nLoss at epoch 416 : 1.2644018633536662\nValidation Accuracy is : 68.39166666666667 %\n\nLoss at epoch 417 : 1.2515079336233261\nValidation Accuracy is : 62.983333333333334 %\n\nLoss at epoch 418 : 1.2753571569325786\nValidation Accuracy is : 66.95833333333333 %\n\nLoss at epoch 419 : 1.2579690418529053\nValidation Accuracy is : 58.63333333333334 %\n\nLoss at epoch 420 : 1.2256483080596885\nValidation Accuracy is : 65.05 %\n\nLoss at epoch 421 : 1.2636033313383854\nValidation Accuracy is : 64.375 %\n\nLoss at epoch 422 : 1.2698252409319246\nValidation Accuracy is : 53.05 %\n\nLoss at epoch 423 : 1.270151940336914\nValidation Accuracy is : 73.55833333333334 %\n\nLoss at epoch 424 : 1.2374528913931708\nValidation Accuracy is : 53.733333333333334 %\n\nLoss at epoch 425 : 1.256356671338325\nValidation Accuracy is : 65.71666666666667 %\n\nLoss at epoch 426 : 1.2549552807638054\nValidation Accuracy is : 72.53333333333333 %\n\nLoss at epoch 427 : 1.2705862332392914\nValidation Accuracy is : 68.475 %\n\nLoss at epoch 428 : 1.2547185562032854\nValidation Accuracy is : 71.5 %\n\nLoss at epoch 429 : 1.250804764263147\nValidation Accuracy is : 64.25 %\n\nLoss at epoch 430 : 1.270605153868815\nValidation Accuracy is : 71.85000000000001 %\n\nLoss at epoch 431 : 1.2502999361134268\nValidation Accuracy is : 69.44166666666666 %\n\nLoss at epoch 432 : 1.2245575046863553\nValidation Accuracy is : 72.075 %\n\nLoss at epoch 433 : 1.2713272622804634\nValidation Accuracy is : 47.16666666666667 %\n\nLoss at epoch 434 : 1.2930324993676456\nValidation Accuracy is : 62.49166666666667 %\n\nLoss at epoch 435 : 1.2289964394025534\nValidation Accuracy is : 64.88333333333334 %\n\nLoss at epoch 436 : 1.2684023054970737\nValidation Accuracy is : 69.64166666666667 %\n\nLoss at epoch 437 : 1.2784595635025695\nValidation Accuracy is : 60.90833333333333 %\n\nLoss at epoch 438 : 1.2649603770614717\nValidation Accuracy is : 60.36666666666667 %\n\nLoss at epoch 439 : 1.2429967165464426\nValidation Accuracy is : 46.08333333333333 %\n\nLoss at epoch 440 : 1.2447820445198934\nValidation Accuracy is : 60.416666666666664 %\n\nLoss at epoch 441 : 1.272703635788866\nValidation Accuracy is : 60.4 %\n\nLoss at epoch 442 : 1.2369386437783803\nValidation Accuracy is : 69.46666666666667 %\n\nLoss at epoch 443 : 1.2444620980389802\nValidation Accuracy is : 69.475 %\n\nLoss at epoch 444 : 1.2401691764776657\nValidation Accuracy is : 63.391666666666666 %\n\nLoss at epoch 445 : 1.2443781147123394\nValidation Accuracy is : 62.28333333333333 %\n\nLoss at epoch 446 : 1.2673343985589243\nValidation Accuracy is : 70.70833333333333 %\n\nLoss at epoch 447 : 1.239068909006323\nValidation Accuracy is : 66.99166666666667 %\n\nLoss at epoch 448 : 1.2526265000671077\nValidation Accuracy is : 65.0 %\n\nLoss at epoch 449 : 1.244652025886534\nValidation Accuracy is : 71.3 %\n\nLoss at epoch 450 : 1.231421131474291\nValidation Accuracy is : 70.10833333333333 %\n\nLoss at epoch 451 : 1.2633539053018186\nValidation Accuracy is : 73.49166666666666 %\n\nLoss at epoch 452 : 1.2220599209427079\nValidation Accuracy is : 70.6 %\n\nLoss at epoch 453 : 1.2753700866048572\nValidation Accuracy is : 62.66666666666667 %\n\nLoss at epoch 454 : 1.2430363409104064\nValidation Accuracy is : 58.06666666666666 %\n\nLoss at epoch 455 : 1.2297082388719485\nValidation Accuracy is : 72.38333333333333 %\n\nLoss at epoch 456 : 1.2661333912114798\nValidation Accuracy is : 64.74166666666666 %\n\nLoss at epoch 457 : 1.2412858472263963\nValidation Accuracy is : 64.45 %\n\nLoss at epoch 458 : 1.2361543285417134\nValidation Accuracy is : 62.31666666666666 %\n\nLoss at epoch 459 : 1.2449599535126188\nValidation Accuracy is : 55.45833333333333 %\n\nLoss at epoch 460 : 1.2464974896902112\nValidation Accuracy is : 41.21666666666667 %\n\nLoss at epoch 461 : 1.2728617187119715\nValidation Accuracy is : 67.07499999999999 %\n\nLoss at epoch 462 : 1.2233066257427536\nValidation Accuracy is : 63.71666666666667 %\n\nLoss at epoch 463 : 1.2750735161568103\nValidation Accuracy is : 63.625 %\n\nLoss at epoch 464 : 1.274309431315565\nValidation Accuracy is : 71.44166666666666 %\n\nLoss at epoch 465 : 1.2362975182251457\nValidation Accuracy is : 71.49166666666666 %\n\nLoss at epoch 466 : 1.2626658882914554\nValidation Accuracy is : 61.99166666666667 %\n\nLoss at epoch 467 : 1.2131036615658986\nValidation Accuracy is : 67.125 %\n\nLoss at epoch 468 : 1.2490225182023724\nValidation Accuracy is : 55.49166666666666 %\n\nLoss at epoch 469 : 1.2306780162918622\nValidation Accuracy is : 71.79166666666667 %\n\nLoss at epoch 470 : 1.2469439587967333\nValidation Accuracy is : 68.55 %\n\nLoss at epoch 471 : 1.2415275770416276\nValidation Accuracy is : 57.54166666666667 %\n\nLoss at epoch 472 : 1.2278622482465549\nValidation Accuracy is : 70.22500000000001 %\n\nLoss at epoch 473 : 1.2408607406539787\nValidation Accuracy is : 75.63333333333333 %\n\nLoss at epoch 474 : 1.2289776842839384\nValidation Accuracy is : 72.19166666666666 %\n\nLoss at epoch 475 : 1.2352956230268777\nValidation Accuracy is : 67.40833333333333 %\n\nLoss at epoch 476 : 1.2446410650846922\nValidation Accuracy is : 58.858333333333334 %\n\nLoss at epoch 477 : 1.2581942205263832\nValidation Accuracy is : 71.73333333333333 %\n\nLoss at epoch 478 : 1.2117609445960165\nValidation Accuracy is : 71.01666666666667 %\n\nLoss at epoch 479 : 1.23755442809824\nValidation Accuracy is : 72.33333333333334 %\n\nLoss at epoch 480 : 1.2471712344431536\nValidation Accuracy is : 52.65833333333333 %\n\nLoss at epoch 481 : 1.2296872515999495\nValidation Accuracy is : 58.416666666666664 %\n\nLoss at epoch 482 : 1.2381540735356449\nValidation Accuracy is : 66.26666666666667 %\n\nLoss at epoch 483 : 1.2679452914555907\nValidation Accuracy is : 67.91666666666667 %\n\nLoss at epoch 484 : 1.2632879636488321\nValidation Accuracy is : 69.325 %\n\nLoss at epoch 485 : 1.2242067178601836\nValidation Accuracy is : 71.075 %\n\nLoss at epoch 486 : 1.2334931049145044\nValidation Accuracy is : 65.81666666666666 %\n\nLoss at epoch 487 : 1.2431939709699455\nValidation Accuracy is : 67.83333333333333 %\n\nLoss at epoch 488 : 1.2321260701628323\nValidation Accuracy is : 71.95833333333333 %\n\nLoss at epoch 489 : 1.2234791856530676\nValidation Accuracy is : 73.29166666666667 %\n\nLoss at epoch 490 : 1.226905701647453\nValidation Accuracy is : 56.75833333333333 %\n\nLoss at epoch 491 : 1.2360335430476699\nValidation Accuracy is : 62.25000000000001 %\n\nLoss at epoch 492 : 1.2358564592764854\nValidation Accuracy is : 58.51666666666666 %\n\nLoss at epoch 493 : 1.2423095619767277\nValidation Accuracy is : 55.166666666666664 %\n\nLoss at epoch 494 : 1.2381515656895086\nValidation Accuracy is : 54.95833333333333 %\n\nLoss at epoch 495 : 1.2395668781209814\nValidation Accuracy is : 56.49999999999999 %\n\nLoss at epoch 496 : 1.2197253897814169\nValidation Accuracy is : 46.55833333333334 %\n\nLoss at epoch 497 : 1.2620939230526618\nValidation Accuracy is : 56.40833333333334 %\n\nLoss at epoch 498 : 1.234941998285314\nValidation Accuracy is : 71.25833333333334 %\n\nLoss at epoch 499 : 1.2392016527207055\nValidation Accuracy is : 62.00833333333333 %\n\nLoss at epoch 500 : 1.2469230403300744\nValidation Accuracy is : 69.10833333333333 %\n\n"
    }
   ],
   "source": [
    "biases, weights = init([784, 700, 600, 500, 400, 300, 200, 100, 10])\n",
    "\n",
    "Wdfa, bdfa = dfa_train(X_train, y_train, X_val, y_val, n_epochs=500, lr=1e-6, batch_size=200)\n"
   ]
  },
  {
   "cell_type": "code",
   "execution_count": null,
   "metadata": {},
   "outputs": [],
   "source": []
  }
 ],
 "metadata": {
  "kernelspec": {
   "display_name": "Python 3.8.3 64-bit",
   "language": "python",
   "name": "python_defaultSpec_1598715311185"
  },
  "language_info": {
   "codemirror_mode": {
    "name": "ipython",
    "version": 3
   },
   "file_extension": ".py",
   "mimetype": "text/x-python",
   "name": "python",
   "nbconvert_exporter": "python",
   "pygments_lexer": "ipython3",
   "version": "3.8.3-final"
  }
 },
 "nbformat": 4,
 "nbformat_minor": 2
}